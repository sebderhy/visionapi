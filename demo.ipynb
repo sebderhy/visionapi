{
 "cells": [
  {
   "cell_type": "markdown",
   "metadata": {},
   "source": [
    "# Cloud Vision API (alpha) : Demo"
   ]
  },
  {
   "cell_type": "markdown",
   "metadata": {},
   "source": [
    "The Cloud Vision API enables developers to integrate state-of-the-art computer vision algorithms in a line of code, without any algorithmic or integration struggle. Below is a demo of the algorithms currently available in the API, as well as example results below:\n",
    "\n",
    "* **Super-resolution**: enhances the quality of an image <br />\n",
    "* **Style Transfer**: transform a photo into a piece of art <br />\n",
    "* **Semantic Segmentation**: classifies each pixel of the picture into a class such as car, pedestrian, road, etc... <br />\n",
    "* **Background Segmentation**: creates a mask to separate between the foreground and background in portrait pictures <br />\n",
    "* **Monocular Depth Estimation**:  estimates how far each pixel is from the camera <br />\n",
    "\n",
    "You think that another algorithm should be included in this API? Please tell me about it at sebderhy@gmail.com."
   ]
  },
  {
   "cell_type": "markdown",
   "metadata": {},
   "source": [
    "<table>\n",
    "    <tr><td><center>input image</center></td><td><center>semantic segmentation</center></td></tr>\n",
    "    <tr><td><img src='test_img.png'></td><td><img src='img_out/semseg-3.png'></td></tr>\n",
    "    <tr><td><center>Super-resolution</center></td><td><center>Depth</center></td></tr>\n",
    "    <tr><td><img src='img_out/superres-2b.png'></td><td><img src='img_out/depth-bts.png'></td></tr>\n",
    "    <tr><td><center>Style Transfer 1</center></td><td><center>Style Transfer 3</center></td></tr>\n",
    "    <tr><td><img src='img_out/styletransf-1.png'></td><td><img src='img_out/styletransf-3.png'></td></tr>\n",
    "    <tr><td><center>Input selfie</center></td><td><center>Background Swap</center></td></tr>\n",
    "    <tr><td><img src='https://images.unsplash.com/photo-1543486958-d783bfbf7f8e?ixlib=rb-1.2.1&ixid=eyJhcHBfaWQiOjEyMDd9&w=1000&q=80'></td><td><img src='img_out/binseg-3-bgswap.png'></td></tr>\n",
    "\n",
    "</table>"
   ]
  },
  {
   "cell_type": "markdown",
   "metadata": {},
   "source": [
    "## Read this before you use it"
   ]
  },
  {
   "cell_type": "markdown",
   "metadata": {},
   "source": [
    "* Be patient! When you submit an image, the results may take about 20 seconds to arrive\n",
    "* The *semantic segmentation and depth estimation* algorithms will work well **on road pictures** (i.e. pictures taken from a car), because they have been trained on such datasets.\n",
    "* The Background segmentation algorithm will work **only on portraits/selfies**, and is currently **only giving a rough contour** (typically, it will miss the subtilities in hair)\n",
    "* Keep in mind that this is a side-project and not a finished product yet! Although I do my best to keep everything working and resilient, the results may be disappointing, and the server may fail (apologies if that's the case). In any case, please share your feedback with me (sebderhy@gmail.com), so that I can improve it accoridingly.   \n"
   ]
  },
  {
   "cell_type": "code",
   "execution_count": 3,
   "metadata": {},
   "outputs": [],
   "source": [
    "from utils import *"
   ]
  },
  {
   "cell_type": "code",
   "execution_count": 4,
   "metadata": {},
   "outputs": [],
   "source": [
    "from ipywidgets import widgets"
   ]
  },
  {
   "cell_type": "code",
   "execution_count": 5,
   "metadata": {},
   "outputs": [],
   "source": [
    "URL_BG = 'https://img.theculturetrip.com/768x432/wp-content/uploads/2018/01/webp-net-compress-image-45.jpg'\n",
    "def viz_out(model_name, img_in, img_out, url_bg=URL_BG):\n",
    "    if model_name.startswith('binseg'):\n",
    "        response = requests.get(url_bg)\n",
    "        bg = Image.open(BytesIO(response.content))\n",
    "        bg2 = bg.resize(img_in.size)\n",
    "        img_out2=Image.composite(img_in, bg2, img_out)\n",
    "    else:\n",
    "        img_out2 = img_out\n",
    "    return img_out2"
   ]
  },
  {
   "cell_type": "markdown",
   "metadata": {},
   "source": [
    "## Option 1: call from URL "
   ]
  },
  {
   "cell_type": "markdown",
   "metadata": {},
   "source": [
    "Define the Image URL you want to test below, and click on process. Both the input and output will be displayed. \n",
    "\n",
    "**Be patient, the results can take ~20 seconds to appear**"
   ]
  },
  {
   "cell_type": "code",
   "execution_count": 6,
   "metadata": {},
   "outputs": [],
   "source": [
    "url_placeholder = widgets.Text(\n",
    "    placeholder='URL of an image',\n",
    "    value = 'https://www.go-telaviv.com/images/driving-in-israel-tel-aviv-traffic-jam1.jpg',\n",
    "    disabled=False\n",
    ")"
   ]
  },
  {
   "cell_type": "code",
   "execution_count": 7,
   "metadata": {},
   "outputs": [],
   "source": [
    "out_pl_url = widgets.Output()\n",
    "out_pl_url.clear_output()"
   ]
  },
  {
   "cell_type": "code",
   "execution_count": 8,
   "metadata": {},
   "outputs": [],
   "source": [
    "out_pl_url_2 = widgets.Output()\n",
    "out_pl_url_2.clear_output()"
   ]
  },
  {
   "cell_type": "code",
   "execution_count": 9,
   "metadata": {},
   "outputs": [],
   "source": [
    "models_list_url = widgets.Dropdown(\n",
    "    options=[('Super-resolution', 'superres-2b'),\n",
    "             ('Style Transfer 1', 'styletransf-1'),\n",
    "             ('Style Transfer 2', 'styletransf-2'),\n",
    "             ('Style Transfer 3', 'styletransf-3'),\n",
    "             ('Semantic Segmentation', 'semseg-3'),\n",
    "             ('Depth', 'depth-bts'),\n",
    "             ('Background Extraction', 'binseg-3')],\n",
    "    value='semseg-3',\n",
    "    disabled=False,\n",
    ")"
   ]
  },
  {
   "cell_type": "code",
   "execution_count": 21,
   "metadata": {},
   "outputs": [],
   "source": [
    "btn_run_url = widgets.Button(description='Process')"
   ]
  },
  {
   "cell_type": "code",
   "execution_count": 22,
   "metadata": {},
   "outputs": [],
   "source": [
    "lbl_status_url = widgets.Label()\n",
    "lbl_status_url.value = 'waiting for user input'"
   ]
  },
  {
   "cell_type": "code",
   "execution_count": 24,
   "metadata": {},
   "outputs": [],
   "source": [
    "def on_click_process_url(change):\n",
    "    lbl_status_url.value = 'loading input image...'\n",
    "    response = requests.get(url_placeholder.value)\n",
    "    img = Image.open(BytesIO(response.content))\n",
    "    lbl_status_url.value = 'Image loaded (see below). Processing...'\n",
    "    out_pl_url.clear_output()\n",
    "    with out_pl_url: display(img)\n",
    "    r = URLImgAPICall(url_placeholder.value, f'urlimg2img/{models_list_url.value}/')\n",
    "    img_out = response2img(r)\n",
    "    img_out = viz_out(models_list_url.value, img, img_out)\n",
    "    out_pl_url_2.clear_output()\n",
    "    with out_pl_url_2: display(img_out)\n",
    "    lbl_status_url.value = 'Here is the output image !'\n",
    "\n",
    "btn_run_url.on_click(on_click_process_url)"
   ]
  },
  {
   "cell_type": "code",
   "execution_count": 15,
   "metadata": {},
   "outputs": [
    {
     "data": {
      "application/vnd.jupyter.widget-view+json": {
       "model_id": "58768d5a0f0f476cb8b187d62175671f",
       "version_major": 2,
       "version_minor": 0
      },
      "text/plain": [
       "VBox(children=(Label(value='Choose your algorithm'), Dropdown(index=6, options=(('Super-resolution', 'superres…"
      ]
     },
     "metadata": {},
     "output_type": "display_data"
    },
    {
     "name": "stdout",
     "output_type": "stream",
     "text": [
      "Elapsed time: 4.7238757610321045\n"
     ]
    }
   ],
   "source": [
    "widgets.VBox([widgets.Label('Choose your algorithm'), models_list_url,\n",
    "              widgets.Label('Write your image URL'), url_placeholder, \n",
    "              widgets.Label('Click below to process the image'), btn_run_url, \n",
    "              lbl_status_url, out_pl_url, out_pl_url_2])"
   ]
  },
  {
   "cell_type": "markdown",
   "metadata": {},
   "source": [
    "## Option 2: Import local picture"
   ]
  },
  {
   "cell_type": "code",
   "execution_count": 18,
   "metadata": {},
   "outputs": [],
   "source": [
    "btn_upload = widgets.FileUpload()"
   ]
  },
  {
   "cell_type": "code",
   "execution_count": 19,
   "metadata": {},
   "outputs": [],
   "source": [
    "out_pl = widgets.Output()\n",
    "out_pl.clear_output()"
   ]
  },
  {
   "cell_type": "code",
   "execution_count": 20,
   "metadata": {},
   "outputs": [],
   "source": [
    "out_pl2 = widgets.Output()\n",
    "out_pl2.clear_output()"
   ]
  },
  {
   "cell_type": "code",
   "execution_count": 21,
   "metadata": {},
   "outputs": [],
   "source": [
    "models_list = widgets.Dropdown(\n",
    "    options=[('Super-resolution', 'superres-2b'),\n",
    "             ('Style Transfer 1', 'styletransf-1'),\n",
    "             ('Style Transfer 2', 'styletransf-2'),\n",
    "             ('Style Transfer 3', 'styletransf-3'),\n",
    "             ('Semantic Segmentation', 'semseg-3'),\n",
    "             ('Depth', 'depth-bts'),\n",
    "             ('Background Extraction', 'binseg-3')],\n",
    "    value='styletransf-1',\n",
    "    disabled=False,\n",
    ")"
   ]
  },
  {
   "cell_type": "code",
   "execution_count": 22,
   "metadata": {},
   "outputs": [],
   "source": [
    "btn_run = widgets.Button(description='Process')"
   ]
  },
  {
   "cell_type": "code",
   "execution_count": 23,
   "metadata": {},
   "outputs": [],
   "source": [
    "lbl_status = widgets.Label()\n",
    "lbl_status.value = 'waiting for user input'"
   ]
  },
  {
   "cell_type": "code",
   "execution_count": 24,
   "metadata": {},
   "outputs": [],
   "source": [
    "def on_click_process(change):\n",
    "    lbl_status.value = 'loading input image...'\n",
    "    img = Image.open(BytesIO(btn_upload.data[-1]))\n",
    "    out_pl.clear_output()\n",
    "    with out_pl: display(img)\n",
    "    lbl_status_url.value = 'Image loaded (see below). Processing...'\n",
    "    r = pilImgAPICall(img, f'img2img/{models_list.value}/')\n",
    "    img_out = response2img(r)\n",
    "    img_out = viz_out(models_list.value, img, img_out)\n",
    "    out_pl2.clear_output()\n",
    "    with out_pl2: display(img_out)\n",
    "    lbl_status.value = 'Here is the output image !'\n",
    "\n",
    "btn_run.on_click(on_click_process)"
   ]
  },
  {
   "cell_type": "markdown",
   "metadata": {},
   "source": [
    "Upload your image below, and click on process. Both the input and output will be displayed. \n",
    "\n",
    "**Be patient, the results can take ~20 seconds to appear**"
   ]
  },
  {
   "cell_type": "code",
   "execution_count": 25,
   "metadata": {
    "scrolled": false
   },
   "outputs": [
    {
     "data": {
      "application/vnd.jupyter.widget-view+json": {
       "model_id": "478676658c8b4690bb5f202ac1c4f46e",
       "version_major": 2,
       "version_minor": 0
      },
      "text/plain": [
       "VBox(children=(Label(value='Choose your algorithm'), Dropdown(index=1, options=(('Super-resolution', 'superres…"
      ]
     },
     "metadata": {},
     "output_type": "display_data"
    },
    {
     "name": "stdout",
     "output_type": "stream",
     "text": [
      "Elapsed time: 12.254088640213013\n"
     ]
    }
   ],
   "source": [
    "widgets.VBox([widgets.Label('Choose your algorithm'), models_list,\n",
    "              widgets.Label('Choose your image'), btn_upload, \n",
    "              widgets.Label('Click below to process the image'), btn_run, \n",
    "              lbl_status, out_pl, out_pl2])"
   ]
  },
  {
   "cell_type": "code",
   "execution_count": null,
   "metadata": {},
   "outputs": [],
   "source": []
  },
  {
   "cell_type": "code",
   "execution_count": null,
   "metadata": {},
   "outputs": [],
   "source": []
  }
 ],
 "metadata": {
  "kernelspec": {
   "display_name": "Python 3",
   "language": "python",
   "name": "python3"
  },
  "language_info": {
   "codemirror_mode": {
    "name": "ipython",
    "version": 3
   },
   "file_extension": ".py",
   "mimetype": "text/x-python",
   "name": "python",
   "nbconvert_exporter": "python",
   "pygments_lexer": "ipython3",
   "version": "3.7.4"
  }
 },
 "nbformat": 4,
 "nbformat_minor": 2
}
