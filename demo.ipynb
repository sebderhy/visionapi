{
 "cells": [
  {
   "cell_type": "markdown",
   "metadata": {},
   "source": [
    "# Cloud Vision API : Demo"
   ]
  },
  {
   "cell_type": "code",
   "execution_count": 22,
   "metadata": {},
   "outputs": [],
   "source": [
    "from utils import *"
   ]
  },
  {
   "cell_type": "markdown",
   "metadata": {},
   "source": [
    "## Option 1: Import local picture"
   ]
  },
  {
   "cell_type": "code",
   "execution_count": 3,
   "metadata": {},
   "outputs": [],
   "source": [
    "from ipywidgets import widgets"
   ]
  },
  {
   "cell_type": "code",
   "execution_count": 4,
   "metadata": {},
   "outputs": [],
   "source": [
    "btn_upload = widgets.FileUpload()"
   ]
  },
  {
   "cell_type": "code",
   "execution_count": 5,
   "metadata": {},
   "outputs": [],
   "source": [
    "out_pl = widgets.Output()\n",
    "out_pl.clear_output()"
   ]
  },
  {
   "cell_type": "code",
   "execution_count": 6,
   "metadata": {},
   "outputs": [],
   "source": [
    "out_pl2 = widgets.Output()\n",
    "out_pl2.clear_output()"
   ]
  },
  {
   "cell_type": "code",
   "execution_count": 7,
   "metadata": {},
   "outputs": [],
   "source": [
    "models_list = widgets.Dropdown(\n",
    "    options=[('Super-resolution', 'superres-2b'),\n",
    "             ('Style Transfer 1', 'styletransf-1'),\n",
    "             ('Style Transfer 2', 'styletransf-2'),\n",
    "             ('Style Transfer 3', 'styletransf-3'),\n",
    "             ('Semantic Segmentation', 'semseg-3'),\n",
    "             ('Depth', 'depth-bts'),\n",
    "             ('Background Extraction', 'binseg-3')],\n",
    "    value='styletransf-1',\n",
    "    disabled=False,\n",
    ")"
   ]
  },
  {
   "cell_type": "code",
   "execution_count": 8,
   "metadata": {},
   "outputs": [],
   "source": [
    "btn_run = widgets.Button(description='Process')"
   ]
  },
  {
   "cell_type": "code",
   "execution_count": 12,
   "metadata": {},
   "outputs": [],
   "source": [
    "def viz_out(model_name, img_in, img_out):\n",
    "    if model_name.startswith('semseg') or model_name.startswith('binseg'):\n",
    "        img_out2 = img_out.convert('RGB')\n",
    "        img_out2 = Image.blend(img_in, img_out2, alpha=0.5)\n",
    "    else:\n",
    "        img_out2 = img_out\n",
    "    return img_out2"
   ]
  },
  {
   "cell_type": "code",
   "execution_count": 13,
   "metadata": {},
   "outputs": [],
   "source": [
    "def on_click_process(change):\n",
    "    img = Image.open(BytesIO(btn_upload.data[-1]))\n",
    "    out_pl.clear_output()\n",
    "    with out_pl: display(img)\n",
    "    r = pilImgAPICall(img, f'img2img/{models_list.value}/')\n",
    "    img_out = response2img(r)\n",
    "    img_out = viz_out(models_list.value, img, img_out)\n",
    "    out_pl2.clear_output()\n",
    "    with out_pl2: display(img_out)\n",
    "\n",
    "btn_run.on_click(on_click_process)"
   ]
  },
  {
   "cell_type": "markdown",
   "metadata": {},
   "source": [
    "Upload your image below, and click on process. Both the input and output will be displayed. \n",
    "\n",
    "**Be patient, the results can take ~20 seconds to appear**"
   ]
  },
  {
   "cell_type": "code",
   "execution_count": 14,
   "metadata": {},
   "outputs": [
    {
     "data": {
      "application/vnd.jupyter.widget-view+json": {
       "model_id": "7dd62cbc015b461c8fb8ebd974ae20ba",
       "version_major": 2,
       "version_minor": 0
      },
      "text/plain": [
       "VBox(children=(Label(value='Choose your algorithm'), Dropdown(index=4, options=(('Super-resolution', 'superres…"
      ]
     },
     "metadata": {},
     "output_type": "display_data"
    },
    {
     "name": "stdout",
     "output_type": "stream",
     "text": [
      "(960, 720)\n",
      "Elapsed time: 8.978631019592285\n",
      "(960, 720)\n",
      "(960, 720)\n",
      "Elapsed time: 8.491998672485352\n"
     ]
    }
   ],
   "source": [
    "widgets.VBox([widgets.Label('Choose your algorithm'), models_list,\n",
    "              widgets.Label('Choose your image'), btn_upload, \n",
    "              widgets.Label('Click below to process the image'), btn_run, out_pl, out_pl2])"
   ]
  },
  {
   "cell_type": "markdown",
   "metadata": {},
   "source": [
    "## Option 2: call from URL "
   ]
  },
  {
   "cell_type": "markdown",
   "metadata": {},
   "source": [
    "Define the Image URL you want to test below, or uncomment one of the examples below."
   ]
  },
  {
   "cell_type": "code",
   "execution_count": 15,
   "metadata": {},
   "outputs": [],
   "source": [
    "url_placeholder = widgets.Text(\n",
    "    placeholder='URL of an image',\n",
    "    disabled=False\n",
    ")"
   ]
  },
  {
   "cell_type": "code",
   "execution_count": 16,
   "metadata": {},
   "outputs": [],
   "source": [
    "out_pl_url = widgets.Output()\n",
    "out_pl_url.clear_output()"
   ]
  },
  {
   "cell_type": "code",
   "execution_count": 17,
   "metadata": {},
   "outputs": [],
   "source": [
    "out_pl_url_2 = widgets.Output()\n",
    "out_pl_url_2.clear_output()"
   ]
  },
  {
   "cell_type": "code",
   "execution_count": 18,
   "metadata": {},
   "outputs": [],
   "source": [
    "models_list_url = widgets.Dropdown(\n",
    "    options=[('Super-resolution', 'superres-2b'),\n",
    "             ('Style Transfer 1', 'styletransf-1'),\n",
    "             ('Style Transfer 2', 'styletransf-2'),\n",
    "             ('Style Transfer 3', 'styletransf-3'),\n",
    "             ('Semantic Segmentation', 'semseg-3'),\n",
    "             ('Depth', 'depth-bts'),\n",
    "             ('Background Extraction', 'binseg-3')],\n",
    "    value='styletransf-1',\n",
    "    disabled=False,\n",
    ")"
   ]
  },
  {
   "cell_type": "code",
   "execution_count": 19,
   "metadata": {},
   "outputs": [],
   "source": [
    "btn_run_url = widgets.Button(description='Process')"
   ]
  },
  {
   "cell_type": "code",
   "execution_count": 20,
   "metadata": {},
   "outputs": [],
   "source": [
    "def on_click_process_url(change):\n",
    "    response = requests.get(url_placeholder.value)\n",
    "    img = Image.open(BytesIO(response.content))\n",
    "    out_pl_url.clear_output()\n",
    "    with out_pl_url: display(img)\n",
    "    r = URLImgAPICall(url_placeholder.value, f'urlimg2img/{models_list_url.value}/')\n",
    "    img_out = response2img(r)\n",
    "    img_out = viz_out(models_list_url.value, img, img_out)\n",
    "    out_pl_url_2.clear_output()\n",
    "    with out_pl_url_2: display(img_out)\n",
    "\n",
    "btn_run_url.on_click(on_click_process_url)"
   ]
  },
  {
   "cell_type": "code",
   "execution_count": 21,
   "metadata": {},
   "outputs": [
    {
     "data": {
      "application/vnd.jupyter.widget-view+json": {
       "model_id": "8010dffbf3b54c828e178051a056f530",
       "version_major": 2,
       "version_minor": 0
      },
      "text/plain": [
       "VBox(children=(Label(value='Choose your algorithm'), Dropdown(index=1, options=(('Super-resolution', 'superres…"
      ]
     },
     "metadata": {},
     "output_type": "display_data"
    },
    {
     "name": "stdout",
     "output_type": "stream",
     "text": [
      "Elapsed time: 8.646998882293701\n"
     ]
    }
   ],
   "source": [
    "widgets.VBox([widgets.Label('Choose your algorithm'), models_list_url,\n",
    "              widgets.Label('Write your image URL'), url_placeholder, \n",
    "              widgets.Label('Click below to process the image'), btn_run_url, out_pl_url, out_pl_url_2])"
   ]
  },
  {
   "cell_type": "code",
   "execution_count": null,
   "metadata": {},
   "outputs": [],
   "source": []
  }
 ],
 "metadata": {
  "kernelspec": {
   "display_name": "Python 3",
   "language": "python",
   "name": "python3"
  },
  "language_info": {
   "codemirror_mode": {
    "name": "ipython",
    "version": 3
   },
   "file_extension": ".py",
   "mimetype": "text/x-python",
   "name": "python",
   "nbconvert_exporter": "python",
   "pygments_lexer": "ipython3",
   "version": "3.7.4"
  }
 },
 "nbformat": 4,
 "nbformat_minor": 2
}
